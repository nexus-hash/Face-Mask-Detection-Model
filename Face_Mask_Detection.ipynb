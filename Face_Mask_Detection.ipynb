{
  "nbformat": 4,
  "nbformat_minor": 0,
  "metadata": {
    "colab": {
      "name": "Face-Mask Detection.ipynb",
      "provenance": [],
      "collapsed_sections": [],
      "authorship_tag": "ABX9TyPm7QI6MX/TarmQABo9j3RY"
    },
    "kernelspec": {
      "name": "python3",
      "display_name": "Python 3"
    }
  },
  "cells": [
    {
      "cell_type": "code",
      "metadata": {
        "id": "J5lNtGyYXipo",
        "colab_type": "code",
        "colab": {
          "base_uri": "https://localhost:8080/",
          "height": 71
        },
        "outputId": "93ad506a-3bf9-4893-ab73-bca72480dc50"
      },
      "source": [
        "import cv2,os\n",
        "data_path='dataset/dataset'\n",
        "data_categories=os.listdir(data_path)\n",
        "labels=[i for i in range(len(data_categories))]\n",
        "label_dict=dict(zip(data_categories,labels))\n",
        "print(label_dict)\n",
        "print(data_categories)\n",
        "print(labels)"
      ],
      "execution_count": 16,
      "outputs": [
        {
          "output_type": "stream",
          "text": [
            "{'with_mask': 0, 'without_mask': 1}\n",
            "['with_mask', 'without_mask']\n",
            "[0, 1]\n"
          ],
          "name": "stdout"
        }
      ]
    },
    {
      "cell_type": "code",
      "metadata": {
        "id": "-iumtUJ3Yxa_",
        "colab_type": "code",
        "colab": {}
      },
      "source": [
        "image_size = 120\n",
        "image_data=[]\n",
        "target=[]\n",
        "\n",
        "for data_category in data_categories:\n",
        "  folder_path=os.path.join(data_path,data_category)\n",
        "  image_names=os.listdir(folder_path)\n",
        "\n",
        "  for image_name in image_names:\n",
        "    image_path=os.path.join(folder_path,image_name)\n",
        "    image=cv2.imread(image_path)\n",
        "\n",
        "    try:\n",
        "      #Converting image to a single color i.e gray scale\n",
        "      gray=cv2.cvtColor(image,cv2.COLOR_BGR2GRAY)\n",
        "      #resizing a image to size 120x120 since we need a fixed size for all image to work on\n",
        "      resized=cv2.resize(gray,(image_size,image_size))\n",
        "      image_data.append(resized)\n",
        "      #appending the image and the label(categorized) into the list\n",
        "      target.append(label_dict[data_category])\n",
        "\n",
        "      #While parsing through images if any image is not found or anything else exception is generated\n",
        "      #It gets caught and without stopping the loop it continnues to the next image\n",
        "    except Exception as k:\n",
        "      print('Exception:',k)"
      ],
      "execution_count": 19,
      "outputs": []
    },
    {
      "cell_type": "code",
      "metadata": {
        "id": "J00_d1LOcAQ4",
        "colab_type": "code",
        "colab": {}
      },
      "source": [
        ""
      ],
      "execution_count": null,
      "outputs": []
    }
  ]
}